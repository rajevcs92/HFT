{
 "cells": [
  {
   "cell_type": "markdown",
   "id": "41fc191e",
   "metadata": {},
   "source": [
    "# Pairs Trading -->  ETH and BTC "
   ]
  },
  {
   "cell_type": "markdown",
   "id": "1cf248bf",
   "metadata": {},
   "source": [
    "#### Import all the necessary libraries"
   ]
  },
  {
   "cell_type": "code",
   "execution_count": 128,
   "id": "2162ed34",
   "metadata": {},
   "outputs": [],
   "source": [
    "import numpy as np\n",
    "import pandas as pd\n",
    "import yfinance as yf\n",
    "import pendulum\n",
    "import matplotlib.pyplot as plt\n",
    "from scipy.stats import linregress\n",
    "from datetime import datetime\n"
   ]
  },
  {
   "cell_type": "markdown",
   "id": "7e4b353d",
   "metadata": {},
   "source": [
    "#### Download daily data for 20th Dec'22 with 1 minute interval \n",
    "\n",
    "Currently my local time zone is UTC+5.30 in order to adjust the timing I used pendulum function to adjust the data download timing.\n",
    "\n",
    "Since it's cryptocurrency , market will be open 24 hrs "
   ]
  },
  {
   "cell_type": "code",
   "execution_count": 161,
   "id": "8a2fd5b8",
   "metadata": {},
   "outputs": [
    {
     "name": "stdout",
     "output_type": "stream",
     "text": [
      "[*********************100%***********************]  1 of 1 completed\n",
      "[*********************100%***********************]  1 of 1 completed\n"
     ]
    }
   ],
   "source": [
    "start = pendulum.parse('2022-12-20 00:00').add(hours=5, minutes=30)  # My tz is UTC+05:30, So adds to my local time 5.30 hours\n",
    "end = pendulum.parse('2022-12-20 23:59').add(hours=5, minutes=30)  # Same\n",
    "BTC = yf.download('BTC-USD', start=start, end=end,  interval = '1m')\n",
    "ETH = yf.download('ETH-USD', start=start, end=end,  interval = '1m')"
   ]
  },
  {
   "cell_type": "markdown",
   "id": "30eb102d",
   "metadata": {},
   "source": [
    "BTC has only 1429 rows for 20th Dec'22  which is less than 1440 (24 hrs) "
   ]
  },
  {
   "cell_type": "code",
   "execution_count": 162,
   "id": "1a4d2846",
   "metadata": {},
   "outputs": [
    {
     "data": {
      "text/html": [
       "<div>\n",
       "<style scoped>\n",
       "    .dataframe tbody tr th:only-of-type {\n",
       "        vertical-align: middle;\n",
       "    }\n",
       "\n",
       "    .dataframe tbody tr th {\n",
       "        vertical-align: top;\n",
       "    }\n",
       "\n",
       "    .dataframe thead th {\n",
       "        text-align: right;\n",
       "    }\n",
       "</style>\n",
       "<table border=\"1\" class=\"dataframe\">\n",
       "  <thead>\n",
       "    <tr style=\"text-align: right;\">\n",
       "      <th></th>\n",
       "      <th>Open</th>\n",
       "      <th>High</th>\n",
       "      <th>Low</th>\n",
       "      <th>Close</th>\n",
       "      <th>Adj Close</th>\n",
       "      <th>Volume</th>\n",
       "    </tr>\n",
       "    <tr>\n",
       "      <th>Datetime</th>\n",
       "      <th></th>\n",
       "      <th></th>\n",
       "      <th></th>\n",
       "      <th></th>\n",
       "      <th></th>\n",
       "      <th></th>\n",
       "    </tr>\n",
       "  </thead>\n",
       "  <tbody>\n",
       "    <tr>\n",
       "      <th>2022-12-20 00:00:00+00:00</th>\n",
       "      <td>16441.787109</td>\n",
       "      <td>16441.787109</td>\n",
       "      <td>16441.787109</td>\n",
       "      <td>16441.787109</td>\n",
       "      <td>16441.787109</td>\n",
       "      <td>0</td>\n",
       "    </tr>\n",
       "    <tr>\n",
       "      <th>2022-12-20 00:01:00+00:00</th>\n",
       "      <td>16451.361328</td>\n",
       "      <td>16451.361328</td>\n",
       "      <td>16451.361328</td>\n",
       "      <td>16451.361328</td>\n",
       "      <td>16451.361328</td>\n",
       "      <td>3321856</td>\n",
       "    </tr>\n",
       "    <tr>\n",
       "      <th>2022-12-20 00:02:00+00:00</th>\n",
       "      <td>16454.195312</td>\n",
       "      <td>16454.195312</td>\n",
       "      <td>16454.195312</td>\n",
       "      <td>16454.195312</td>\n",
       "      <td>16454.195312</td>\n",
       "      <td>0</td>\n",
       "    </tr>\n",
       "    <tr>\n",
       "      <th>2022-12-20 00:03:00+00:00</th>\n",
       "      <td>16452.722656</td>\n",
       "      <td>16452.722656</td>\n",
       "      <td>16452.722656</td>\n",
       "      <td>16452.722656</td>\n",
       "      <td>16452.722656</td>\n",
       "      <td>0</td>\n",
       "    </tr>\n",
       "    <tr>\n",
       "      <th>2022-12-20 00:04:00+00:00</th>\n",
       "      <td>16451.128906</td>\n",
       "      <td>16451.128906</td>\n",
       "      <td>16451.128906</td>\n",
       "      <td>16451.128906</td>\n",
       "      <td>16451.128906</td>\n",
       "      <td>824320</td>\n",
       "    </tr>\n",
       "    <tr>\n",
       "      <th>...</th>\n",
       "      <td>...</td>\n",
       "      <td>...</td>\n",
       "      <td>...</td>\n",
       "      <td>...</td>\n",
       "      <td>...</td>\n",
       "      <td>...</td>\n",
       "    </tr>\n",
       "    <tr>\n",
       "      <th>2022-12-20 23:54:00+00:00</th>\n",
       "      <td>16901.412109</td>\n",
       "      <td>16901.412109</td>\n",
       "      <td>16901.412109</td>\n",
       "      <td>16901.412109</td>\n",
       "      <td>16901.412109</td>\n",
       "      <td>0</td>\n",
       "    </tr>\n",
       "    <tr>\n",
       "      <th>2022-12-20 23:55:00+00:00</th>\n",
       "      <td>16902.970703</td>\n",
       "      <td>16902.970703</td>\n",
       "      <td>16902.970703</td>\n",
       "      <td>16902.970703</td>\n",
       "      <td>16902.970703</td>\n",
       "      <td>0</td>\n",
       "    </tr>\n",
       "    <tr>\n",
       "      <th>2022-12-20 23:56:00+00:00</th>\n",
       "      <td>16902.970703</td>\n",
       "      <td>16902.970703</td>\n",
       "      <td>16902.970703</td>\n",
       "      <td>16902.970703</td>\n",
       "      <td>16902.970703</td>\n",
       "      <td>0</td>\n",
       "    </tr>\n",
       "    <tr>\n",
       "      <th>2022-12-20 23:57:00+00:00</th>\n",
       "      <td>16902.947266</td>\n",
       "      <td>16902.947266</td>\n",
       "      <td>16902.947266</td>\n",
       "      <td>16902.947266</td>\n",
       "      <td>16902.947266</td>\n",
       "      <td>0</td>\n",
       "    </tr>\n",
       "    <tr>\n",
       "      <th>2022-12-20 23:58:00+00:00</th>\n",
       "      <td>16906.957031</td>\n",
       "      <td>16906.957031</td>\n",
       "      <td>16906.957031</td>\n",
       "      <td>16906.957031</td>\n",
       "      <td>16906.957031</td>\n",
       "      <td>0</td>\n",
       "    </tr>\n",
       "  </tbody>\n",
       "</table>\n",
       "<p>1429 rows × 6 columns</p>\n",
       "</div>"
      ],
      "text/plain": [
       "                                   Open          High           Low  \\\n",
       "Datetime                                                              \n",
       "2022-12-20 00:00:00+00:00  16441.787109  16441.787109  16441.787109   \n",
       "2022-12-20 00:01:00+00:00  16451.361328  16451.361328  16451.361328   \n",
       "2022-12-20 00:02:00+00:00  16454.195312  16454.195312  16454.195312   \n",
       "2022-12-20 00:03:00+00:00  16452.722656  16452.722656  16452.722656   \n",
       "2022-12-20 00:04:00+00:00  16451.128906  16451.128906  16451.128906   \n",
       "...                                 ...           ...           ...   \n",
       "2022-12-20 23:54:00+00:00  16901.412109  16901.412109  16901.412109   \n",
       "2022-12-20 23:55:00+00:00  16902.970703  16902.970703  16902.970703   \n",
       "2022-12-20 23:56:00+00:00  16902.970703  16902.970703  16902.970703   \n",
       "2022-12-20 23:57:00+00:00  16902.947266  16902.947266  16902.947266   \n",
       "2022-12-20 23:58:00+00:00  16906.957031  16906.957031  16906.957031   \n",
       "\n",
       "                                  Close     Adj Close   Volume  \n",
       "Datetime                                                        \n",
       "2022-12-20 00:00:00+00:00  16441.787109  16441.787109        0  \n",
       "2022-12-20 00:01:00+00:00  16451.361328  16451.361328  3321856  \n",
       "2022-12-20 00:02:00+00:00  16454.195312  16454.195312        0  \n",
       "2022-12-20 00:03:00+00:00  16452.722656  16452.722656        0  \n",
       "2022-12-20 00:04:00+00:00  16451.128906  16451.128906   824320  \n",
       "...                                 ...           ...      ...  \n",
       "2022-12-20 23:54:00+00:00  16901.412109  16901.412109        0  \n",
       "2022-12-20 23:55:00+00:00  16902.970703  16902.970703        0  \n",
       "2022-12-20 23:56:00+00:00  16902.970703  16902.970703        0  \n",
       "2022-12-20 23:57:00+00:00  16902.947266  16902.947266        0  \n",
       "2022-12-20 23:58:00+00:00  16906.957031  16906.957031        0  \n",
       "\n",
       "[1429 rows x 6 columns]"
      ]
     },
     "execution_count": 162,
     "metadata": {},
     "output_type": "execute_result"
    }
   ],
   "source": [
    "BTC"
   ]
  },
  {
   "cell_type": "markdown",
   "id": "44e15ee8",
   "metadata": {},
   "source": [
    "ETH has only 1431 rows for 20th Dec'22 which is less than 1440 (24 hrs)"
   ]
  },
  {
   "cell_type": "code",
   "execution_count": 163,
   "id": "fe803efd",
   "metadata": {},
   "outputs": [
    {
     "data": {
      "text/html": [
       "<div>\n",
       "<style scoped>\n",
       "    .dataframe tbody tr th:only-of-type {\n",
       "        vertical-align: middle;\n",
       "    }\n",
       "\n",
       "    .dataframe tbody tr th {\n",
       "        vertical-align: top;\n",
       "    }\n",
       "\n",
       "    .dataframe thead th {\n",
       "        text-align: right;\n",
       "    }\n",
       "</style>\n",
       "<table border=\"1\" class=\"dataframe\">\n",
       "  <thead>\n",
       "    <tr style=\"text-align: right;\">\n",
       "      <th></th>\n",
       "      <th>Open</th>\n",
       "      <th>High</th>\n",
       "      <th>Low</th>\n",
       "      <th>Close</th>\n",
       "      <th>Adj Close</th>\n",
       "      <th>Volume</th>\n",
       "    </tr>\n",
       "    <tr>\n",
       "      <th>Datetime</th>\n",
       "      <th></th>\n",
       "      <th></th>\n",
       "      <th></th>\n",
       "      <th></th>\n",
       "      <th></th>\n",
       "      <th></th>\n",
       "    </tr>\n",
       "  </thead>\n",
       "  <tbody>\n",
       "    <tr>\n",
       "      <th>2022-12-20 00:00:00+00:00</th>\n",
       "      <td>1167.882690</td>\n",
       "      <td>1167.882690</td>\n",
       "      <td>1167.882690</td>\n",
       "      <td>1167.882690</td>\n",
       "      <td>1167.882690</td>\n",
       "      <td>0</td>\n",
       "    </tr>\n",
       "    <tr>\n",
       "      <th>2022-12-20 00:01:00+00:00</th>\n",
       "      <td>1168.262695</td>\n",
       "      <td>1168.262695</td>\n",
       "      <td>1168.262695</td>\n",
       "      <td>1168.262695</td>\n",
       "      <td>1168.262695</td>\n",
       "      <td>560128</td>\n",
       "    </tr>\n",
       "    <tr>\n",
       "      <th>2022-12-20 00:02:00+00:00</th>\n",
       "      <td>1168.397583</td>\n",
       "      <td>1168.397583</td>\n",
       "      <td>1168.397583</td>\n",
       "      <td>1168.397583</td>\n",
       "      <td>1168.397583</td>\n",
       "      <td>0</td>\n",
       "    </tr>\n",
       "    <tr>\n",
       "      <th>2022-12-20 00:03:00+00:00</th>\n",
       "      <td>1168.291016</td>\n",
       "      <td>1168.291016</td>\n",
       "      <td>1168.291016</td>\n",
       "      <td>1168.291016</td>\n",
       "      <td>1168.291016</td>\n",
       "      <td>0</td>\n",
       "    </tr>\n",
       "    <tr>\n",
       "      <th>2022-12-20 00:04:00+00:00</th>\n",
       "      <td>1168.226440</td>\n",
       "      <td>1168.226440</td>\n",
       "      <td>1168.226440</td>\n",
       "      <td>1168.226440</td>\n",
       "      <td>1168.226440</td>\n",
       "      <td>0</td>\n",
       "    </tr>\n",
       "    <tr>\n",
       "      <th>...</th>\n",
       "      <td>...</td>\n",
       "      <td>...</td>\n",
       "      <td>...</td>\n",
       "      <td>...</td>\n",
       "      <td>...</td>\n",
       "      <td>...</td>\n",
       "    </tr>\n",
       "    <tr>\n",
       "      <th>2022-12-20 23:54:00+00:00</th>\n",
       "      <td>1217.606323</td>\n",
       "      <td>1217.606323</td>\n",
       "      <td>1217.606323</td>\n",
       "      <td>1217.606323</td>\n",
       "      <td>1217.606323</td>\n",
       "      <td>125952</td>\n",
       "    </tr>\n",
       "    <tr>\n",
       "      <th>2022-12-20 23:55:00+00:00</th>\n",
       "      <td>1217.712646</td>\n",
       "      <td>1217.712646</td>\n",
       "      <td>1217.712646</td>\n",
       "      <td>1217.712646</td>\n",
       "      <td>1217.712646</td>\n",
       "      <td>0</td>\n",
       "    </tr>\n",
       "    <tr>\n",
       "      <th>2022-12-20 23:56:00+00:00</th>\n",
       "      <td>1217.780640</td>\n",
       "      <td>1217.780640</td>\n",
       "      <td>1217.780640</td>\n",
       "      <td>1217.780640</td>\n",
       "      <td>1217.780640</td>\n",
       "      <td>1236992</td>\n",
       "    </tr>\n",
       "    <tr>\n",
       "      <th>2022-12-20 23:57:00+00:00</th>\n",
       "      <td>1217.699585</td>\n",
       "      <td>1217.699585</td>\n",
       "      <td>1217.699585</td>\n",
       "      <td>1217.699585</td>\n",
       "      <td>1217.699585</td>\n",
       "      <td>0</td>\n",
       "    </tr>\n",
       "    <tr>\n",
       "      <th>2022-12-20 23:58:00+00:00</th>\n",
       "      <td>1217.855225</td>\n",
       "      <td>1217.855225</td>\n",
       "      <td>1217.855225</td>\n",
       "      <td>1217.855225</td>\n",
       "      <td>1217.855225</td>\n",
       "      <td>0</td>\n",
       "    </tr>\n",
       "  </tbody>\n",
       "</table>\n",
       "<p>1431 rows × 6 columns</p>\n",
       "</div>"
      ],
      "text/plain": [
       "                                  Open         High          Low        Close  \\\n",
       "Datetime                                                                        \n",
       "2022-12-20 00:00:00+00:00  1167.882690  1167.882690  1167.882690  1167.882690   \n",
       "2022-12-20 00:01:00+00:00  1168.262695  1168.262695  1168.262695  1168.262695   \n",
       "2022-12-20 00:02:00+00:00  1168.397583  1168.397583  1168.397583  1168.397583   \n",
       "2022-12-20 00:03:00+00:00  1168.291016  1168.291016  1168.291016  1168.291016   \n",
       "2022-12-20 00:04:00+00:00  1168.226440  1168.226440  1168.226440  1168.226440   \n",
       "...                                ...          ...          ...          ...   \n",
       "2022-12-20 23:54:00+00:00  1217.606323  1217.606323  1217.606323  1217.606323   \n",
       "2022-12-20 23:55:00+00:00  1217.712646  1217.712646  1217.712646  1217.712646   \n",
       "2022-12-20 23:56:00+00:00  1217.780640  1217.780640  1217.780640  1217.780640   \n",
       "2022-12-20 23:57:00+00:00  1217.699585  1217.699585  1217.699585  1217.699585   \n",
       "2022-12-20 23:58:00+00:00  1217.855225  1217.855225  1217.855225  1217.855225   \n",
       "\n",
       "                             Adj Close   Volume  \n",
       "Datetime                                         \n",
       "2022-12-20 00:00:00+00:00  1167.882690        0  \n",
       "2022-12-20 00:01:00+00:00  1168.262695   560128  \n",
       "2022-12-20 00:02:00+00:00  1168.397583        0  \n",
       "2022-12-20 00:03:00+00:00  1168.291016        0  \n",
       "2022-12-20 00:04:00+00:00  1168.226440        0  \n",
       "...                                ...      ...  \n",
       "2022-12-20 23:54:00+00:00  1217.606323   125952  \n",
       "2022-12-20 23:55:00+00:00  1217.712646        0  \n",
       "2022-12-20 23:56:00+00:00  1217.780640  1236992  \n",
       "2022-12-20 23:57:00+00:00  1217.699585        0  \n",
       "2022-12-20 23:58:00+00:00  1217.855225        0  \n",
       "\n",
       "[1431 rows x 6 columns]"
      ]
     },
     "execution_count": 163,
     "metadata": {},
     "output_type": "execute_result"
    }
   ],
   "source": [
    "ETH"
   ]
  },
  {
   "cell_type": "code",
   "execution_count": 164,
   "id": "9b0bdc67",
   "metadata": {},
   "outputs": [],
   "source": [
    "BTC = BTC.reset_index()\n",
    "ETH = ETH.reset_index()"
   ]
  },
  {
   "cell_type": "markdown",
   "id": "fcfe41c3",
   "metadata": {},
   "source": [
    "We need only few columns from the downloaded data. "
   ]
  },
  {
   "cell_type": "code",
   "execution_count": 165,
   "id": "b8ca4c49",
   "metadata": {},
   "outputs": [],
   "source": [
    "BTC = BTC[['Datetime','Adj Close','Open']]"
   ]
  },
  {
   "cell_type": "code",
   "execution_count": 166,
   "id": "ae2f66c4",
   "metadata": {},
   "outputs": [
    {
     "data": {
      "text/html": [
       "<div>\n",
       "<style scoped>\n",
       "    .dataframe tbody tr th:only-of-type {\n",
       "        vertical-align: middle;\n",
       "    }\n",
       "\n",
       "    .dataframe tbody tr th {\n",
       "        vertical-align: top;\n",
       "    }\n",
       "\n",
       "    .dataframe thead th {\n",
       "        text-align: right;\n",
       "    }\n",
       "</style>\n",
       "<table border=\"1\" class=\"dataframe\">\n",
       "  <thead>\n",
       "    <tr style=\"text-align: right;\">\n",
       "      <th></th>\n",
       "      <th>Datetime</th>\n",
       "      <th>Adj Close</th>\n",
       "      <th>Open</th>\n",
       "    </tr>\n",
       "  </thead>\n",
       "  <tbody>\n",
       "    <tr>\n",
       "      <th>0</th>\n",
       "      <td>2022-12-20 00:00:00+00:00</td>\n",
       "      <td>16441.787109</td>\n",
       "      <td>16441.787109</td>\n",
       "    </tr>\n",
       "    <tr>\n",
       "      <th>1</th>\n",
       "      <td>2022-12-20 00:01:00+00:00</td>\n",
       "      <td>16451.361328</td>\n",
       "      <td>16451.361328</td>\n",
       "    </tr>\n",
       "    <tr>\n",
       "      <th>2</th>\n",
       "      <td>2022-12-20 00:02:00+00:00</td>\n",
       "      <td>16454.195312</td>\n",
       "      <td>16454.195312</td>\n",
       "    </tr>\n",
       "    <tr>\n",
       "      <th>3</th>\n",
       "      <td>2022-12-20 00:03:00+00:00</td>\n",
       "      <td>16452.722656</td>\n",
       "      <td>16452.722656</td>\n",
       "    </tr>\n",
       "    <tr>\n",
       "      <th>4</th>\n",
       "      <td>2022-12-20 00:04:00+00:00</td>\n",
       "      <td>16451.128906</td>\n",
       "      <td>16451.128906</td>\n",
       "    </tr>\n",
       "    <tr>\n",
       "      <th>...</th>\n",
       "      <td>...</td>\n",
       "      <td>...</td>\n",
       "      <td>...</td>\n",
       "    </tr>\n",
       "    <tr>\n",
       "      <th>1424</th>\n",
       "      <td>2022-12-20 23:54:00+00:00</td>\n",
       "      <td>16901.412109</td>\n",
       "      <td>16901.412109</td>\n",
       "    </tr>\n",
       "    <tr>\n",
       "      <th>1425</th>\n",
       "      <td>2022-12-20 23:55:00+00:00</td>\n",
       "      <td>16902.970703</td>\n",
       "      <td>16902.970703</td>\n",
       "    </tr>\n",
       "    <tr>\n",
       "      <th>1426</th>\n",
       "      <td>2022-12-20 23:56:00+00:00</td>\n",
       "      <td>16902.970703</td>\n",
       "      <td>16902.970703</td>\n",
       "    </tr>\n",
       "    <tr>\n",
       "      <th>1427</th>\n",
       "      <td>2022-12-20 23:57:00+00:00</td>\n",
       "      <td>16902.947266</td>\n",
       "      <td>16902.947266</td>\n",
       "    </tr>\n",
       "    <tr>\n",
       "      <th>1428</th>\n",
       "      <td>2022-12-20 23:58:00+00:00</td>\n",
       "      <td>16906.957031</td>\n",
       "      <td>16906.957031</td>\n",
       "    </tr>\n",
       "  </tbody>\n",
       "</table>\n",
       "<p>1429 rows × 3 columns</p>\n",
       "</div>"
      ],
      "text/plain": [
       "                      Datetime     Adj Close          Open\n",
       "0    2022-12-20 00:00:00+00:00  16441.787109  16441.787109\n",
       "1    2022-12-20 00:01:00+00:00  16451.361328  16451.361328\n",
       "2    2022-12-20 00:02:00+00:00  16454.195312  16454.195312\n",
       "3    2022-12-20 00:03:00+00:00  16452.722656  16452.722656\n",
       "4    2022-12-20 00:04:00+00:00  16451.128906  16451.128906\n",
       "...                        ...           ...           ...\n",
       "1424 2022-12-20 23:54:00+00:00  16901.412109  16901.412109\n",
       "1425 2022-12-20 23:55:00+00:00  16902.970703  16902.970703\n",
       "1426 2022-12-20 23:56:00+00:00  16902.970703  16902.970703\n",
       "1427 2022-12-20 23:57:00+00:00  16902.947266  16902.947266\n",
       "1428 2022-12-20 23:58:00+00:00  16906.957031  16906.957031\n",
       "\n",
       "[1429 rows x 3 columns]"
      ]
     },
     "execution_count": 166,
     "metadata": {},
     "output_type": "execute_result"
    }
   ],
   "source": [
    "BTC"
   ]
  },
  {
   "cell_type": "code",
   "execution_count": 167,
   "id": "ec48459e",
   "metadata": {},
   "outputs": [
    {
     "data": {
      "text/html": [
       "<div>\n",
       "<style scoped>\n",
       "    .dataframe tbody tr th:only-of-type {\n",
       "        vertical-align: middle;\n",
       "    }\n",
       "\n",
       "    .dataframe tbody tr th {\n",
       "        vertical-align: top;\n",
       "    }\n",
       "\n",
       "    .dataframe thead th {\n",
       "        text-align: right;\n",
       "    }\n",
       "</style>\n",
       "<table border=\"1\" class=\"dataframe\">\n",
       "  <thead>\n",
       "    <tr style=\"text-align: right;\">\n",
       "      <th></th>\n",
       "      <th>Datetime</th>\n",
       "      <th>Adj Close</th>\n",
       "      <th>Open</th>\n",
       "    </tr>\n",
       "  </thead>\n",
       "  <tbody>\n",
       "    <tr>\n",
       "      <th>0</th>\n",
       "      <td>2022-12-20 00:00:00+00:00</td>\n",
       "      <td>1167.882690</td>\n",
       "      <td>1167.882690</td>\n",
       "    </tr>\n",
       "    <tr>\n",
       "      <th>1</th>\n",
       "      <td>2022-12-20 00:01:00+00:00</td>\n",
       "      <td>1168.262695</td>\n",
       "      <td>1168.262695</td>\n",
       "    </tr>\n",
       "    <tr>\n",
       "      <th>2</th>\n",
       "      <td>2022-12-20 00:02:00+00:00</td>\n",
       "      <td>1168.397583</td>\n",
       "      <td>1168.397583</td>\n",
       "    </tr>\n",
       "    <tr>\n",
       "      <th>3</th>\n",
       "      <td>2022-12-20 00:03:00+00:00</td>\n",
       "      <td>1168.291016</td>\n",
       "      <td>1168.291016</td>\n",
       "    </tr>\n",
       "    <tr>\n",
       "      <th>4</th>\n",
       "      <td>2022-12-20 00:04:00+00:00</td>\n",
       "      <td>1168.226440</td>\n",
       "      <td>1168.226440</td>\n",
       "    </tr>\n",
       "    <tr>\n",
       "      <th>...</th>\n",
       "      <td>...</td>\n",
       "      <td>...</td>\n",
       "      <td>...</td>\n",
       "    </tr>\n",
       "    <tr>\n",
       "      <th>1426</th>\n",
       "      <td>2022-12-20 23:54:00+00:00</td>\n",
       "      <td>1217.606323</td>\n",
       "      <td>1217.606323</td>\n",
       "    </tr>\n",
       "    <tr>\n",
       "      <th>1427</th>\n",
       "      <td>2022-12-20 23:55:00+00:00</td>\n",
       "      <td>1217.712646</td>\n",
       "      <td>1217.712646</td>\n",
       "    </tr>\n",
       "    <tr>\n",
       "      <th>1428</th>\n",
       "      <td>2022-12-20 23:56:00+00:00</td>\n",
       "      <td>1217.780640</td>\n",
       "      <td>1217.780640</td>\n",
       "    </tr>\n",
       "    <tr>\n",
       "      <th>1429</th>\n",
       "      <td>2022-12-20 23:57:00+00:00</td>\n",
       "      <td>1217.699585</td>\n",
       "      <td>1217.699585</td>\n",
       "    </tr>\n",
       "    <tr>\n",
       "      <th>1430</th>\n",
       "      <td>2022-12-20 23:58:00+00:00</td>\n",
       "      <td>1217.855225</td>\n",
       "      <td>1217.855225</td>\n",
       "    </tr>\n",
       "  </tbody>\n",
       "</table>\n",
       "<p>1431 rows × 3 columns</p>\n",
       "</div>"
      ],
      "text/plain": [
       "                      Datetime    Adj Close         Open\n",
       "0    2022-12-20 00:00:00+00:00  1167.882690  1167.882690\n",
       "1    2022-12-20 00:01:00+00:00  1168.262695  1168.262695\n",
       "2    2022-12-20 00:02:00+00:00  1168.397583  1168.397583\n",
       "3    2022-12-20 00:03:00+00:00  1168.291016  1168.291016\n",
       "4    2022-12-20 00:04:00+00:00  1168.226440  1168.226440\n",
       "...                        ...          ...          ...\n",
       "1426 2022-12-20 23:54:00+00:00  1217.606323  1217.606323\n",
       "1427 2022-12-20 23:55:00+00:00  1217.712646  1217.712646\n",
       "1428 2022-12-20 23:56:00+00:00  1217.780640  1217.780640\n",
       "1429 2022-12-20 23:57:00+00:00  1217.699585  1217.699585\n",
       "1430 2022-12-20 23:58:00+00:00  1217.855225  1217.855225\n",
       "\n",
       "[1431 rows x 3 columns]"
      ]
     },
     "execution_count": 167,
     "metadata": {},
     "output_type": "execute_result"
    }
   ],
   "source": [
    "ETH = ETH[['Datetime','Adj Close','Open']]\n",
    "ETH"
   ]
  },
  {
   "cell_type": "markdown",
   "id": "cc79cdba",
   "metadata": {},
   "source": [
    "Rename the columns before merging two data frames "
   ]
  },
  {
   "cell_type": "code",
   "execution_count": 168,
   "id": "eb2a90de",
   "metadata": {},
   "outputs": [],
   "source": [
    "BTC.rename(columns = {'Adj Close':'BTC Adj Close', 'Open':'BTC Open'}, inplace = True)\n",
    "ETH.rename(columns = {'Adj Close':'ETH Adj Close', 'Open':'ETH Open'}, inplace = True)"
   ]
  },
  {
   "cell_type": "code",
   "execution_count": 169,
   "id": "a9e757cd",
   "metadata": {},
   "outputs": [
    {
     "data": {
      "text/html": [
       "<div>\n",
       "<style scoped>\n",
       "    .dataframe tbody tr th:only-of-type {\n",
       "        vertical-align: middle;\n",
       "    }\n",
       "\n",
       "    .dataframe tbody tr th {\n",
       "        vertical-align: top;\n",
       "    }\n",
       "\n",
       "    .dataframe thead th {\n",
       "        text-align: right;\n",
       "    }\n",
       "</style>\n",
       "<table border=\"1\" class=\"dataframe\">\n",
       "  <thead>\n",
       "    <tr style=\"text-align: right;\">\n",
       "      <th></th>\n",
       "      <th>Datetime</th>\n",
       "      <th>BTC Adj Close</th>\n",
       "      <th>BTC Open</th>\n",
       "    </tr>\n",
       "  </thead>\n",
       "  <tbody>\n",
       "    <tr>\n",
       "      <th>0</th>\n",
       "      <td>2022-12-20 00:00:00+00:00</td>\n",
       "      <td>16441.787109</td>\n",
       "      <td>16441.787109</td>\n",
       "    </tr>\n",
       "    <tr>\n",
       "      <th>1</th>\n",
       "      <td>2022-12-20 00:01:00+00:00</td>\n",
       "      <td>16451.361328</td>\n",
       "      <td>16451.361328</td>\n",
       "    </tr>\n",
       "    <tr>\n",
       "      <th>2</th>\n",
       "      <td>2022-12-20 00:02:00+00:00</td>\n",
       "      <td>16454.195312</td>\n",
       "      <td>16454.195312</td>\n",
       "    </tr>\n",
       "    <tr>\n",
       "      <th>3</th>\n",
       "      <td>2022-12-20 00:03:00+00:00</td>\n",
       "      <td>16452.722656</td>\n",
       "      <td>16452.722656</td>\n",
       "    </tr>\n",
       "    <tr>\n",
       "      <th>4</th>\n",
       "      <td>2022-12-20 00:04:00+00:00</td>\n",
       "      <td>16451.128906</td>\n",
       "      <td>16451.128906</td>\n",
       "    </tr>\n",
       "    <tr>\n",
       "      <th>...</th>\n",
       "      <td>...</td>\n",
       "      <td>...</td>\n",
       "      <td>...</td>\n",
       "    </tr>\n",
       "    <tr>\n",
       "      <th>1424</th>\n",
       "      <td>2022-12-20 23:54:00+00:00</td>\n",
       "      <td>16901.412109</td>\n",
       "      <td>16901.412109</td>\n",
       "    </tr>\n",
       "    <tr>\n",
       "      <th>1425</th>\n",
       "      <td>2022-12-20 23:55:00+00:00</td>\n",
       "      <td>16902.970703</td>\n",
       "      <td>16902.970703</td>\n",
       "    </tr>\n",
       "    <tr>\n",
       "      <th>1426</th>\n",
       "      <td>2022-12-20 23:56:00+00:00</td>\n",
       "      <td>16902.970703</td>\n",
       "      <td>16902.970703</td>\n",
       "    </tr>\n",
       "    <tr>\n",
       "      <th>1427</th>\n",
       "      <td>2022-12-20 23:57:00+00:00</td>\n",
       "      <td>16902.947266</td>\n",
       "      <td>16902.947266</td>\n",
       "    </tr>\n",
       "    <tr>\n",
       "      <th>1428</th>\n",
       "      <td>2022-12-20 23:58:00+00:00</td>\n",
       "      <td>16906.957031</td>\n",
       "      <td>16906.957031</td>\n",
       "    </tr>\n",
       "  </tbody>\n",
       "</table>\n",
       "<p>1429 rows × 3 columns</p>\n",
       "</div>"
      ],
      "text/plain": [
       "                      Datetime  BTC Adj Close      BTC Open\n",
       "0    2022-12-20 00:00:00+00:00   16441.787109  16441.787109\n",
       "1    2022-12-20 00:01:00+00:00   16451.361328  16451.361328\n",
       "2    2022-12-20 00:02:00+00:00   16454.195312  16454.195312\n",
       "3    2022-12-20 00:03:00+00:00   16452.722656  16452.722656\n",
       "4    2022-12-20 00:04:00+00:00   16451.128906  16451.128906\n",
       "...                        ...            ...           ...\n",
       "1424 2022-12-20 23:54:00+00:00   16901.412109  16901.412109\n",
       "1425 2022-12-20 23:55:00+00:00   16902.970703  16902.970703\n",
       "1426 2022-12-20 23:56:00+00:00   16902.970703  16902.970703\n",
       "1427 2022-12-20 23:57:00+00:00   16902.947266  16902.947266\n",
       "1428 2022-12-20 23:58:00+00:00   16906.957031  16906.957031\n",
       "\n",
       "[1429 rows x 3 columns]"
      ]
     },
     "execution_count": 169,
     "metadata": {},
     "output_type": "execute_result"
    }
   ],
   "source": [
    "BTC"
   ]
  },
  {
   "cell_type": "code",
   "execution_count": 170,
   "id": "e3e48ee5",
   "metadata": {},
   "outputs": [
    {
     "data": {
      "text/html": [
       "<div>\n",
       "<style scoped>\n",
       "    .dataframe tbody tr th:only-of-type {\n",
       "        vertical-align: middle;\n",
       "    }\n",
       "\n",
       "    .dataframe tbody tr th {\n",
       "        vertical-align: top;\n",
       "    }\n",
       "\n",
       "    .dataframe thead th {\n",
       "        text-align: right;\n",
       "    }\n",
       "</style>\n",
       "<table border=\"1\" class=\"dataframe\">\n",
       "  <thead>\n",
       "    <tr style=\"text-align: right;\">\n",
       "      <th></th>\n",
       "      <th>Datetime</th>\n",
       "      <th>ETH Adj Close</th>\n",
       "      <th>ETH Open</th>\n",
       "    </tr>\n",
       "  </thead>\n",
       "  <tbody>\n",
       "    <tr>\n",
       "      <th>0</th>\n",
       "      <td>2022-12-20 00:00:00+00:00</td>\n",
       "      <td>1167.882690</td>\n",
       "      <td>1167.882690</td>\n",
       "    </tr>\n",
       "    <tr>\n",
       "      <th>1</th>\n",
       "      <td>2022-12-20 00:01:00+00:00</td>\n",
       "      <td>1168.262695</td>\n",
       "      <td>1168.262695</td>\n",
       "    </tr>\n",
       "    <tr>\n",
       "      <th>2</th>\n",
       "      <td>2022-12-20 00:02:00+00:00</td>\n",
       "      <td>1168.397583</td>\n",
       "      <td>1168.397583</td>\n",
       "    </tr>\n",
       "    <tr>\n",
       "      <th>3</th>\n",
       "      <td>2022-12-20 00:03:00+00:00</td>\n",
       "      <td>1168.291016</td>\n",
       "      <td>1168.291016</td>\n",
       "    </tr>\n",
       "    <tr>\n",
       "      <th>4</th>\n",
       "      <td>2022-12-20 00:04:00+00:00</td>\n",
       "      <td>1168.226440</td>\n",
       "      <td>1168.226440</td>\n",
       "    </tr>\n",
       "    <tr>\n",
       "      <th>...</th>\n",
       "      <td>...</td>\n",
       "      <td>...</td>\n",
       "      <td>...</td>\n",
       "    </tr>\n",
       "    <tr>\n",
       "      <th>1426</th>\n",
       "      <td>2022-12-20 23:54:00+00:00</td>\n",
       "      <td>1217.606323</td>\n",
       "      <td>1217.606323</td>\n",
       "    </tr>\n",
       "    <tr>\n",
       "      <th>1427</th>\n",
       "      <td>2022-12-20 23:55:00+00:00</td>\n",
       "      <td>1217.712646</td>\n",
       "      <td>1217.712646</td>\n",
       "    </tr>\n",
       "    <tr>\n",
       "      <th>1428</th>\n",
       "      <td>2022-12-20 23:56:00+00:00</td>\n",
       "      <td>1217.780640</td>\n",
       "      <td>1217.780640</td>\n",
       "    </tr>\n",
       "    <tr>\n",
       "      <th>1429</th>\n",
       "      <td>2022-12-20 23:57:00+00:00</td>\n",
       "      <td>1217.699585</td>\n",
       "      <td>1217.699585</td>\n",
       "    </tr>\n",
       "    <tr>\n",
       "      <th>1430</th>\n",
       "      <td>2022-12-20 23:58:00+00:00</td>\n",
       "      <td>1217.855225</td>\n",
       "      <td>1217.855225</td>\n",
       "    </tr>\n",
       "  </tbody>\n",
       "</table>\n",
       "<p>1431 rows × 3 columns</p>\n",
       "</div>"
      ],
      "text/plain": [
       "                      Datetime  ETH Adj Close     ETH Open\n",
       "0    2022-12-20 00:00:00+00:00    1167.882690  1167.882690\n",
       "1    2022-12-20 00:01:00+00:00    1168.262695  1168.262695\n",
       "2    2022-12-20 00:02:00+00:00    1168.397583  1168.397583\n",
       "3    2022-12-20 00:03:00+00:00    1168.291016  1168.291016\n",
       "4    2022-12-20 00:04:00+00:00    1168.226440  1168.226440\n",
       "...                        ...            ...          ...\n",
       "1426 2022-12-20 23:54:00+00:00    1217.606323  1217.606323\n",
       "1427 2022-12-20 23:55:00+00:00    1217.712646  1217.712646\n",
       "1428 2022-12-20 23:56:00+00:00    1217.780640  1217.780640\n",
       "1429 2022-12-20 23:57:00+00:00    1217.699585  1217.699585\n",
       "1430 2022-12-20 23:58:00+00:00    1217.855225  1217.855225\n",
       "\n",
       "[1431 rows x 3 columns]"
      ]
     },
     "execution_count": 170,
     "metadata": {},
     "output_type": "execute_result"
    }
   ],
   "source": [
    "ETH"
   ]
  },
  {
   "cell_type": "markdown",
   "id": "e1b163dd",
   "metadata": {},
   "source": [
    "#### Now time to merge both the BTC and ETH data to pick only matching timestamp"
   ]
  },
  {
   "cell_type": "code",
   "execution_count": 171,
   "id": "22cd5e44",
   "metadata": {},
   "outputs": [],
   "source": [
    "data = BTC.merge(ETH[['Datetime' , 'ETH Adj Close', 'ETH Open']], left_on='Datetime', right_on = 'Datetime')"
   ]
  },
  {
   "cell_type": "code",
   "execution_count": 172,
   "id": "dd70609c",
   "metadata": {},
   "outputs": [
    {
     "data": {
      "text/html": [
       "<div>\n",
       "<style scoped>\n",
       "    .dataframe tbody tr th:only-of-type {\n",
       "        vertical-align: middle;\n",
       "    }\n",
       "\n",
       "    .dataframe tbody tr th {\n",
       "        vertical-align: top;\n",
       "    }\n",
       "\n",
       "    .dataframe thead th {\n",
       "        text-align: right;\n",
       "    }\n",
       "</style>\n",
       "<table border=\"1\" class=\"dataframe\">\n",
       "  <thead>\n",
       "    <tr style=\"text-align: right;\">\n",
       "      <th></th>\n",
       "      <th>Datetime</th>\n",
       "      <th>BTC Adj Close</th>\n",
       "      <th>BTC Open</th>\n",
       "      <th>ETH Adj Close</th>\n",
       "      <th>ETH Open</th>\n",
       "    </tr>\n",
       "  </thead>\n",
       "  <tbody>\n",
       "    <tr>\n",
       "      <th>0</th>\n",
       "      <td>2022-12-20 00:00:00+00:00</td>\n",
       "      <td>16441.787109</td>\n",
       "      <td>16441.787109</td>\n",
       "      <td>1167.882690</td>\n",
       "      <td>1167.882690</td>\n",
       "    </tr>\n",
       "    <tr>\n",
       "      <th>1</th>\n",
       "      <td>2022-12-20 00:01:00+00:00</td>\n",
       "      <td>16451.361328</td>\n",
       "      <td>16451.361328</td>\n",
       "      <td>1168.262695</td>\n",
       "      <td>1168.262695</td>\n",
       "    </tr>\n",
       "    <tr>\n",
       "      <th>2</th>\n",
       "      <td>2022-12-20 00:02:00+00:00</td>\n",
       "      <td>16454.195312</td>\n",
       "      <td>16454.195312</td>\n",
       "      <td>1168.397583</td>\n",
       "      <td>1168.397583</td>\n",
       "    </tr>\n",
       "    <tr>\n",
       "      <th>3</th>\n",
       "      <td>2022-12-20 00:03:00+00:00</td>\n",
       "      <td>16452.722656</td>\n",
       "      <td>16452.722656</td>\n",
       "      <td>1168.291016</td>\n",
       "      <td>1168.291016</td>\n",
       "    </tr>\n",
       "    <tr>\n",
       "      <th>4</th>\n",
       "      <td>2022-12-20 00:04:00+00:00</td>\n",
       "      <td>16451.128906</td>\n",
       "      <td>16451.128906</td>\n",
       "      <td>1168.226440</td>\n",
       "      <td>1168.226440</td>\n",
       "    </tr>\n",
       "    <tr>\n",
       "      <th>...</th>\n",
       "      <td>...</td>\n",
       "      <td>...</td>\n",
       "      <td>...</td>\n",
       "      <td>...</td>\n",
       "      <td>...</td>\n",
       "    </tr>\n",
       "    <tr>\n",
       "      <th>1424</th>\n",
       "      <td>2022-12-20 23:54:00+00:00</td>\n",
       "      <td>16901.412109</td>\n",
       "      <td>16901.412109</td>\n",
       "      <td>1217.606323</td>\n",
       "      <td>1217.606323</td>\n",
       "    </tr>\n",
       "    <tr>\n",
       "      <th>1425</th>\n",
       "      <td>2022-12-20 23:55:00+00:00</td>\n",
       "      <td>16902.970703</td>\n",
       "      <td>16902.970703</td>\n",
       "      <td>1217.712646</td>\n",
       "      <td>1217.712646</td>\n",
       "    </tr>\n",
       "    <tr>\n",
       "      <th>1426</th>\n",
       "      <td>2022-12-20 23:56:00+00:00</td>\n",
       "      <td>16902.970703</td>\n",
       "      <td>16902.970703</td>\n",
       "      <td>1217.780640</td>\n",
       "      <td>1217.780640</td>\n",
       "    </tr>\n",
       "    <tr>\n",
       "      <th>1427</th>\n",
       "      <td>2022-12-20 23:57:00+00:00</td>\n",
       "      <td>16902.947266</td>\n",
       "      <td>16902.947266</td>\n",
       "      <td>1217.699585</td>\n",
       "      <td>1217.699585</td>\n",
       "    </tr>\n",
       "    <tr>\n",
       "      <th>1428</th>\n",
       "      <td>2022-12-20 23:58:00+00:00</td>\n",
       "      <td>16906.957031</td>\n",
       "      <td>16906.957031</td>\n",
       "      <td>1217.855225</td>\n",
       "      <td>1217.855225</td>\n",
       "    </tr>\n",
       "  </tbody>\n",
       "</table>\n",
       "<p>1429 rows × 5 columns</p>\n",
       "</div>"
      ],
      "text/plain": [
       "                      Datetime  BTC Adj Close      BTC Open  ETH Adj Close  \\\n",
       "0    2022-12-20 00:00:00+00:00   16441.787109  16441.787109    1167.882690   \n",
       "1    2022-12-20 00:01:00+00:00   16451.361328  16451.361328    1168.262695   \n",
       "2    2022-12-20 00:02:00+00:00   16454.195312  16454.195312    1168.397583   \n",
       "3    2022-12-20 00:03:00+00:00   16452.722656  16452.722656    1168.291016   \n",
       "4    2022-12-20 00:04:00+00:00   16451.128906  16451.128906    1168.226440   \n",
       "...                        ...            ...           ...            ...   \n",
       "1424 2022-12-20 23:54:00+00:00   16901.412109  16901.412109    1217.606323   \n",
       "1425 2022-12-20 23:55:00+00:00   16902.970703  16902.970703    1217.712646   \n",
       "1426 2022-12-20 23:56:00+00:00   16902.970703  16902.970703    1217.780640   \n",
       "1427 2022-12-20 23:57:00+00:00   16902.947266  16902.947266    1217.699585   \n",
       "1428 2022-12-20 23:58:00+00:00   16906.957031  16906.957031    1217.855225   \n",
       "\n",
       "         ETH Open  \n",
       "0     1167.882690  \n",
       "1     1168.262695  \n",
       "2     1168.397583  \n",
       "3     1168.291016  \n",
       "4     1168.226440  \n",
       "...           ...  \n",
       "1424  1217.606323  \n",
       "1425  1217.712646  \n",
       "1426  1217.780640  \n",
       "1427  1217.699585  \n",
       "1428  1217.855225  \n",
       "\n",
       "[1429 rows x 5 columns]"
      ]
     },
     "execution_count": 172,
     "metadata": {},
     "output_type": "execute_result"
    }
   ],
   "source": [
    "data"
   ]
  },
  {
   "cell_type": "markdown",
   "id": "1eaa37e0",
   "metadata": {},
   "source": [
    "#### Plot the price movement of BTC  "
   ]
  },
  {
   "cell_type": "code",
   "execution_count": 173,
   "id": "ae65b679",
   "metadata": {},
   "outputs": [
    {
     "data": {
      "image/png": "[encoded data removed]",
      "text/plain": [
       "<Figure size 432x288 with 1 Axes>"
      ]
     },
     "metadata": {
      "needs_background": "light"
     },
     "output_type": "display_data"
    }
   ],
   "source": [
    "plt.figure(1)\n",
    "plt.plot(data['BTC Adj Close'], color='blue') \n",
    "plt.xlabel('Time')\n",
    "plt.ylabel('USD')\n",
    "plt.title('Bitcoin movement')\n",
    "plt.grid(False) # I have added this for me to be able to accurately see the graph\n",
    "plt.show()"
   ]
  },
  {
   "cell_type": "markdown",
   "id": "93f2b1b8",
   "metadata": {},
   "source": [
    "#### Plot the price movement of ETH"
   ]
  },
  {
   "cell_type": "code",
   "execution_count": 174,
   "id": "8cbebf76",
   "metadata": {},
   "outputs": [
    {
     "data": {
      "image/png": "[encoded data removed]",
      "text/plain": [
       "<Figure size 432x288 with 1 Axes>"
      ]
     },
     "metadata": {
      "needs_background": "light"
     },
     "output_type": "display_data"
    }
   ],
   "source": [
    "plt.figure(1)\n",
    "plt.plot(data['ETH Adj Close'], color='red') \n",
    "plt.xlabel('Time')\n",
    "plt.ylabel('(%)')\n",
    "plt.title('Ethereum price movement')\n",
    "plt.grid(False) # I have added this for me to be able to accurately see the graph\n",
    "plt.show()"
   ]
  },
  {
   "cell_type": "markdown",
   "id": "224c10bc",
   "metadata": {},
   "source": [
    "#### Plot the price movement of BTC and ETH in one graph\n",
    "\n",
    "This shows that both BTC and ETH are moves in same direction with slight lag.This shows both are co integreted "
   ]
  },
  {
   "cell_type": "code",
   "execution_count": 175,
   "id": "836aaadf",
   "metadata": {},
   "outputs": [
    {
     "data": {
      "image/png": "[encoded data removed]",
      "text/plain": [
       "<Figure size 432x288 with 1 Axes>"
      ]
     },
     "metadata": {
      "needs_background": "light"
     },
     "output_type": "display_data"
    }
   ],
   "source": [
    "# Time Series Graphs of Each\n",
    "# Normalized to be 0/1\n",
    "d_r = data[['BTC Adj Close','ETH Adj Close']]\n",
    "snorm = d_r.copy()\n",
    "for v in d_r:\n",
    "    mi,ma = d_r[v].min(),d_r[v].max()\n",
    "    snorm[v] = (d_r[v] - mi)/(ma-mi)\n",
    "\n",
    "# All four series on the same graph\n",
    "snorm.plot(linewidth=2)\n",
    "plt.show()"
   ]
  },
  {
   "cell_type": "code",
   "execution_count": 176,
   "id": "449b20bf",
   "metadata": {},
   "outputs": [
    {
     "name": "stdout",
     "output_type": "stream",
     "text": [
      "BTC open price =  16441.787109375\n",
      "ETH open price =  1167.8826904296875\n"
     ]
    }
   ],
   "source": [
    "S1_0 = data['BTC Open'][0]\n",
    "S2_0 = data['ETH Open'][0]\n",
    "print(\"BTC open price = \" , S1_0)\n",
    "print(\"ETH open price = \" , S2_0)"
   ]
  },
  {
   "cell_type": "markdown",
   "id": "0a109e01",
   "metadata": {},
   "source": [
    "Daily Mean and daily volatility is found by multiplying minute data with 1440 (24 hrs = 1440 mins) "
   ]
  },
  {
   "cell_type": "code",
   "execution_count": 304,
   "id": "f8c5c9a1",
   "metadata": {},
   "outputs": [],
   "source": [
    "lr1 = np.log(data['BTC Adj Close'] / data['BTC Adj Close'].shift(1))\n",
    "lr2 = np.log(data['ETH Adj Close'] / data['ETH Adj Close'].shift(1))\n",
    "mu_1 = lr1.mean() * 1440\n",
    "mu_2 = lr2.mean() * 1440\n",
    "sigma_1 = lr1.std() * np.sqrt(1440)\n",
    "sigma_2 = lr2.std() * np.sqrt(1440)\n",
    "rho = lr1.corr(lr2)\n",
    "z_0 = 0.00\n",
    "gamma = 1\n",
    "delta = 0.8\n",
    "T = 1\n",
    "M = len(BTC)"
   ]
  },
  {
   "cell_type": "code",
   "execution_count": 305,
   "id": "0cb6e611",
   "metadata": {},
   "outputs": [
    {
     "data": {
      "text/plain": [
       "0.8376450311429525"
      ]
     },
     "execution_count": 305,
     "metadata": {},
     "output_type": "execute_result"
    }
   ],
   "source": [
    "rho"
   ]
  },
  {
   "cell_type": "code",
   "execution_count": 306,
   "id": "7aa76f1b",
   "metadata": {},
   "outputs": [
    {
     "name": "stdout",
     "output_type": "stream",
     "text": [
      "Beta =  1.4985727104557542\n"
     ]
    }
   ],
   "source": [
    "result = linregress(np.log(data['BTC Adj Close']), np.log(data['ETH Adj Close']))\n",
    "beta = result.slope\n",
    "print(\"Beta = \", beta)"
   ]
  },
  {
   "cell_type": "code",
   "execution_count": 307,
   "id": "b5681201",
   "metadata": {},
   "outputs": [],
   "source": [
    "dt = T/M\n",
    "S1 = np.zeros((M + 1, 1))\n",
    "S2 = np.zeros((M + 1, 1))\n",
    "z =  np.zeros((M + 1, 1))\n",
    "a =  np.zeros((M + 1, 1))\n",
    "b =  np.zeros((M + 1, 1))\n",
    "c =  np.zeros((M + 1, 1))\n",
    "Pi_1 = np.zeros((M + 1, 1))\n",
    "Pi_2 = np.zeros((M + 1, 1))"
   ]
  },
  {
   "cell_type": "code",
   "execution_count": 308,
   "id": "f68bc1a6",
   "metadata": {},
   "outputs": [],
   "source": [
    "tt = np.linspace(0, 1, M + 1)\n",
    "z[0] = z_0\n",
    "S1[0] = S1_0\n",
    "S2[0] = S2_0\n",
    "sigma_beta = np.sqrt(sigma_1 ** 2 + beta ** 2 * sigma_2 ** 2 + 2 * beta * sigma_1 * sigma_2 * rho)\n",
    "eta = (-1/delta) * (mu_1 - (sigma_1 ** 2)/2 + beta*(mu_2 - (sigma_2 ** 2)/2))\n",
    "rn = np.random.standard_normal(z.shape)\n",
    "rn1 = np.random.standard_normal(S1.shape) \n",
    "rn2 = np.random.standard_normal(S2.shape) \n",
    "for t in range(1, M + 1):\n",
    "    z[t] = z[t-1]* (1 - delta * (eta - z[t-1])) * dt + sigma_beta * np.sqrt(dt)*((sigma_1 + beta * sigma_2 * rho)/ sigma_beta * rn1[t] + beta * (sigma_2 * np.sqrt(1-rho ** 2)/sigma_beta) * rn1[t]);\n",
    "    S1[t] = data['BTC Adj Close'][t-1]\n",
    "    S2[t] = data['ETH Adj Close'][t-1]\n",
    "    \n",
    "    "
   ]
  },
  {
   "cell_type": "code",
   "execution_count": 309,
   "id": "9e39f3e5",
   "metadata": {},
   "outputs": [
    {
     "data": {
      "text/plain": [
       "Text(0.5, 1.0, 'Stock Price')"
      ]
     },
     "execution_count": 309,
     "metadata": {},
     "output_type": "execute_result"
    },
    {
     "data": {
      "image/png": "[encoded data removed]",
      "text/plain": [
       "<Figure size 720x432 with 1 Axes>"
      ]
     },
     "metadata": {
      "needs_background": "light"
     },
     "output_type": "display_data"
    }
   ],
   "source": [
    "plt.figure(figsize=(10, 6))\n",
    "plt.plot(tt, S1, 'b', lw=1.5, label='BTC')\n",
    "plt.plot(tt, S2, 'r', lw=1.5, label='ETH')\n",
    "plt.legend(loc=0)\n",
    "plt.xlabel('Time')\n",
    "plt.ylabel('$')\n",
    "plt.title('Stock Price')"
   ]
  },
  {
   "cell_type": "code",
   "execution_count": 310,
   "id": "ed951476",
   "metadata": {},
   "outputs": [
    {
     "data": {
      "text/plain": [
       "Text(0.5, 1.0, 'z')"
      ]
     },
     "execution_count": 310,
     "metadata": {},
     "output_type": "execute_result"
    },
    {
     "data": {
      "image/png": "[encoded data removed]",
      "text/plain": [
       "<Figure size 720x432 with 1 Axes>"
      ]
     },
     "metadata": {
      "needs_background": "light"
     },
     "output_type": "display_data"
    }
   ],
   "source": [
    "plt.figure(figsize=(10, 6))\n",
    "plt.plot(tt, z, 'g', lw=1.5)\n",
    "plt.xlabel('Time')\n",
    "plt.ylabel('Rate')\n",
    "plt.title('z')"
   ]
  },
  {
   "cell_type": "code",
   "execution_count": 311,
   "id": "2f4d6d72",
   "metadata": {},
   "outputs": [],
   "source": [
    "for t in range(1, M + 1):\n",
    "    a[t] = 0.5 * (T - t * dt)/((1-rho ** 2) * sigma_1 ** 2)\n",
    "    b[t] = - 0.25 * (T - t * dt) ** 2 * (sigma_1 ** 2 + beta * sigma_2 ** 2)/((1 - rho ** 2) * sigma_1 ** 2) - rho * mu_2 * (T - t * dt)/((1 - rho **2) * sigma_1 * sigma_2)\n",
    "    c[t] = 0.5 * mu_2 ** 2 * (T - t * dt)/((1 - rho ** 2) * sigma_2 ** 2) + 0.25 * (T - t * dt) ** 2 * (sigma_1 ** 2 + beta * sigma_2 ** 2 + 2 * sigma_1 * sigma_2 * beta *rho) * delta ** 2/((1 - rho ** 2) * sigma_1 ** 2) + 0.25 * (T - t * dt) ** 2 * mu_2 * delta * rho * (sigma_1 ** 2 + beta * sigma_2 ** 2) + 1/24 * (T - t * dt) ** 3 * (sigma_1 ** 2 + beta * sigma_2 ** 2) ** 2 * delta ** 2/((1 - rho ** 2) * sigma_1 ** 2)\n",
    "    Pi_1[t] = (1 / S1[t]) * ((mu_1 + delta * z[t])/(gamma * (1 - rho ** 2) * sigma_1 ** 2) + delta/gamma * (-2 * a[t] * (mu_1 + delta * z[t])-b[t]) - rho * mu_2/(gamma * (1 - rho ** 2) * sigma_1 * sigma_2))\n",
    "    Pi_2[t] = (1 / S2[t]) * (mu_2 / (gamma * (1 - rho ** 2) * sigma_2 ** 2) + delta * beta / gamma * (- 2 * a[t] * (mu_1 + delta * z[t]) - b[t]) - rho * (mu_1 + delta * z[t]) / (gamma * (1 - rho ** 2) * sigma_1 * sigma_2))"
   ]
  },
  {
   "cell_type": "code",
   "execution_count": 312,
   "id": "778bc7d6",
   "metadata": {},
   "outputs": [
    {
     "data": {
      "text/plain": [
       "Text(0.5, 1.0, 'Weights')"
      ]
     },
     "execution_count": 312,
     "metadata": {},
     "output_type": "execute_result"
    },
    {
     "data": {
      "image/png": "[encoded data removed]",
      "text/plain": [
       "<Figure size 720x432 with 1 Axes>"
      ]
     },
     "metadata": {
      "needs_background": "light"
     },
     "output_type": "display_data"
    }
   ],
   "source": [
    "plt.figure(figsize=(10, 6))\n",
    "plt.plot(tt, Pi_1, 'b', lw=1.5, label='BTC w1')\n",
    "plt.plot(tt, Pi_2, 'r', lw=1.5, label='ETH w2')\n",
    "plt.legend(loc=0)\n",
    "plt.xlabel('Time')\n",
    "plt.ylabel('%')\n",
    "plt.title('Weights')"
   ]
  },
  {
   "cell_type": "code",
   "execution_count": 313,
   "id": "5cc9f121",
   "metadata": {},
   "outputs": [
    {
     "data": {
      "text/plain": [
       "Text(0.5, 1.0, 'Cash')"
      ]
     },
     "execution_count": 313,
     "metadata": {},
     "output_type": "execute_result"
    },
    {
     "data": {
      "image/png": "[encoded data removed]",
      "text/plain": [
       "<Figure size 720x432 with 1 Axes>"
      ]
     },
     "metadata": {
      "needs_background": "light"
     },
     "output_type": "display_data"
    }
   ],
   "source": [
    "plt.figure(figsize=(10, 6))\n",
    "plt.plot(tt, Pi_1 * S1, 'b', lw=1.5, label='Wealth BTC')\n",
    "plt.plot(tt, Pi_2 * S2, 'r', lw=1.5, label='Wealth ETH')\n",
    "plt.legend(loc=0)\n",
    "plt.xlabel('Time')\n",
    "plt.ylabel('$')\n",
    "plt.title('Cash')"
   ]
  },
  {
   "cell_type": "code",
   "execution_count": 314,
   "id": "1e5d1e31",
   "metadata": {},
   "outputs": [],
   "source": [
    "Wealth = abs(Pi_1 * S1) + abs(Pi_2 * S2)"
   ]
  },
  {
   "cell_type": "code",
   "execution_count": 315,
   "id": "4e5f35f4",
   "metadata": {},
   "outputs": [
    {
     "data": {
      "text/plain": [
       "Text(0.5, 1.0, 'Wealth')"
      ]
     },
     "execution_count": 315,
     "metadata": {},
     "output_type": "execute_result"
    },
    {
     "data": {
      "image/png": "[encoded data removed]",
      "text/plain": [
       "<Figure size 720x432 with 1 Axes>"
      ]
     },
     "metadata": {
      "needs_background": "light"
     },
     "output_type": "display_data"
    }
   ],
   "source": [
    "plt.figure(figsize=(10, 6))\n",
    "plt.plot(tt[1:], Wealth[1:], 'b', lw=1.5, label='Total')\n",
    "plt.legend(loc=0)\n",
    "plt.xlabel('Time')\n",
    "plt.ylabel('$')\n",
    "plt.title('Wealth')"
   ]
  },
  {
   "cell_type": "code",
   "execution_count": 316,
   "id": "fe8744ce",
   "metadata": {},
   "outputs": [
    {
     "data": {
      "text/plain": [
       "Text(0.5, 1.0, 'Comparison')"
      ]
     },
     "execution_count": 316,
     "metadata": {},
     "output_type": "execute_result"
    },
    {
     "data": {
      "image/png": "[encoded data removed]",
      "text/plain": [
       "<Figure size 720x432 with 1 Axes>"
      ]
     },
     "metadata": {
      "needs_background": "light"
     },
     "output_type": "display_data"
    }
   ],
   "source": [
    "plt.figure(figsize=(10, 6))\n",
    "plt.plot(tt, Pi_1 * S1 + Pi_2 * S2, 'b', lw=1.5, label='Dynamic')\n",
    "plt.plot(tt, Pi_1.mean() * S1 + Pi_2.mean() * S2, 'r', lw=1.5, label='Static')\n",
    "plt.legend(loc=0)\n",
    "plt.xlabel('Time')\n",
    "plt.ylabel('$')\n",
    "plt.title('Comparison')"
   ]
  },
  {
   "cell_type": "code",
   "execution_count": 317,
   "id": "43f4c46c",
   "metadata": {},
   "outputs": [
    {
     "name": "stdout",
     "output_type": "stream",
     "text": [
      "Dynamic wealth initial =  [368.03373277]\n",
      "Dynamic wealth end =  [350.88163002]\n",
      "Dynamic wealth return =  [-0.0466047]\n"
     ]
    }
   ],
   "source": [
    "#Dynamic wealth\n",
    "\n",
    "Wealth = abs(Pi_1 * S1) + abs(Pi_2 * S2)\n",
    "print('Dynamic wealth initial = ', Wealth[1] )\n",
    "print('Dynamic wealth end = ', Wealth[-1] )\n",
    "print('Dynamic wealth return = ',(Wealth[-1] - Wealth[1])/Wealth[1])"
   ]
  },
  {
   "cell_type": "code",
   "execution_count": 318,
   "id": "df1b474d",
   "metadata": {},
   "outputs": [
    {
     "name": "stdout",
     "output_type": "stream",
     "text": [
      "Static wealth initial =  [378.41093039]\n",
      "Static wealth end =  [394.02304787]\n",
      "Static wealth return =  [0.04125705]\n"
     ]
    }
   ],
   "source": [
    "#Static wealth\n",
    "\n",
    "S_Wealth = abs(Pi_1.mean() * S1) + abs(Pi_2.mean() * S2)\n",
    "print('Static wealth initial = ', S_Wealth[1] )\n",
    "print('Static wealth end = ', S_Wealth[-1] )\n",
    "print('Static wealth return = ',(S_Wealth[-1] - S_Wealth[1])/S_Wealth[1])"
   ]
  },
  {
   "cell_type": "code",
   "execution_count": null,
   "id": "f52f3ce8",
   "metadata": {},
   "outputs": [],
   "source": []
  }
 ],
 "metadata": {
  "kernelspec": {
   "display_name": "Python 3 (ipykernel)",
   "language": "python",
   "name": "python3"
  },
  "language_info": {
   "codemirror_mode": {
    "name": "ipython",
    "version": 3
   },
   "file_extension": ".py",
   "mimetype": "text/x-python",
   "name": "python",
   "nbconvert_exporter": "python",
   "pygments_lexer": "ipython3",
   "version": "3.9.7"
  }
 },
 "nbformat": 4,
 "nbformat_minor": 5
}
